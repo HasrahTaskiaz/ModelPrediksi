{
 "cells": [
  {
   "cell_type": "markdown",
   "id": "db8bb0b6",
   "metadata": {},
   "source": [
    "# <center><div style=\"font-family: Times New Roman; font-size: 30px; border-radius : 10px; background-color: #dc839eff; color: #d3e381ff; padding: 12px; line-height: 0.7;\">Import Library</div></center> "
   ]
  },
  {
   "cell_type": "code",
   "execution_count": 13,
   "id": "8e4816bc",
   "metadata": {},
   "outputs": [],
   "source": [
    "import numpy as np\n",
    "import pandas as pd\n",
    "import matplotlib.pyplot as plt\n",
    "import plotly.graph_objects as go\n",
    "import statsmodels.api as sm"
   ]
  },
  {
   "cell_type": "markdown",
   "id": "d8717dde",
   "metadata": {},
   "source": [
    "# <center><div style=\"font-family: Times New Roman; font-size: 30px; border-radius : 10px; background-color: #dc839eff; color: #d3e381ff; padding: 12px; line-height: 0.7;\">Regresi dengan data Random</div></center>"
   ]
  },
  {
   "cell_type": "code",
   "execution_count": 14,
   "id": "a5b73adf",
   "metadata": {},
   "outputs": [
    {
     "data": {
      "text/html": [
       "<div>\n",
       "<style scoped>\n",
       "    .dataframe tbody tr th:only-of-type {\n",
       "        vertical-align: middle;\n",
       "    }\n",
       "\n",
       "    .dataframe tbody tr th {\n",
       "        vertical-align: top;\n",
       "    }\n",
       "\n",
       "    .dataframe thead th {\n",
       "        text-align: right;\n",
       "    }\n",
       "</style>\n",
       "<table border=\"1\" class=\"dataframe\">\n",
       "  <thead>\n",
       "    <tr style=\"text-align: right;\">\n",
       "      <th></th>\n",
       "      <th>x</th>\n",
       "      <th>y</th>\n",
       "    </tr>\n",
       "  </thead>\n",
       "  <tbody>\n",
       "    <tr>\n",
       "      <th>0</th>\n",
       "      <td>7.071577</td>\n",
       "      <td>8.223479</td>\n",
       "    </tr>\n",
       "    <tr>\n",
       "      <th>1</th>\n",
       "      <td>0.602188</td>\n",
       "      <td>4.624356</td>\n",
       "    </tr>\n",
       "    <tr>\n",
       "      <th>2</th>\n",
       "      <td>2.098460</td>\n",
       "      <td>6.558921</td>\n",
       "    </tr>\n",
       "    <tr>\n",
       "      <th>3</th>\n",
       "      <td>3.222549</td>\n",
       "      <td>6.715773</td>\n",
       "    </tr>\n",
       "    <tr>\n",
       "      <th>4</th>\n",
       "      <td>-0.366769</td>\n",
       "      <td>4.755964</td>\n",
       "    </tr>\n",
       "    <tr>\n",
       "      <th>...</th>\n",
       "      <td>...</td>\n",
       "      <td>...</td>\n",
       "    </tr>\n",
       "    <tr>\n",
       "      <th>115</th>\n",
       "      <td>2.548702</td>\n",
       "      <td>7.211466</td>\n",
       "    </tr>\n",
       "    <tr>\n",
       "      <th>116</th>\n",
       "      <td>2.066734</td>\n",
       "      <td>6.949620</td>\n",
       "    </tr>\n",
       "    <tr>\n",
       "      <th>117</th>\n",
       "      <td>0.712794</td>\n",
       "      <td>5.078634</td>\n",
       "    </tr>\n",
       "    <tr>\n",
       "      <th>118</th>\n",
       "      <td>0.055684</td>\n",
       "      <td>4.607498</td>\n",
       "    </tr>\n",
       "    <tr>\n",
       "      <th>119</th>\n",
       "      <td>7.242732</td>\n",
       "      <td>8.848813</td>\n",
       "    </tr>\n",
       "  </tbody>\n",
       "</table>\n",
       "<p>120 rows × 2 columns</p>\n",
       "</div>"
      ],
      "text/plain": [
       "            x         y\n",
       "0    7.071577  8.223479\n",
       "1    0.602188  4.624356\n",
       "2    2.098460  6.558921\n",
       "3    3.222549  6.715773\n",
       "4   -0.366769  4.755964\n",
       "..        ...       ...\n",
       "115  2.548702  7.211466\n",
       "116  2.066734  6.949620\n",
       "117  0.712794  5.078634\n",
       "118  0.055684  4.607498\n",
       "119  7.242732  8.848813\n",
       "\n",
       "[120 rows x 2 columns]"
      ]
     },
     "execution_count": 14,
     "metadata": {},
     "output_type": "execute_result"
    }
   ],
   "source": [
    "np.random.seed(7)\n",
    "x = 3 * np.random.randn(120) + 2\n",
    "res = 0.8 * np.random.randn(120)\n",
    "y = 5 + 0.5 * x + res\n",
    "\n",
    "df = pd.DataFrame(\n",
    "    {'x': x,\n",
    "     'y': y}\n",
    ")\n",
    "\n",
    "df"
   ]
  },
  {
   "cell_type": "markdown",
   "id": "dfdb069f",
   "metadata": {},
   "source": [
    "# <center><div style=\"font-family: Times New Roman; font-size: 30px; border-radius : 10px; background-color: #dc839eff; color: #d3e381ff; padding: 12px; line-height: 0.7;\">Regresi Sederhana</div></center>"
   ]
  },
  {
   "cell_type": "code",
   "execution_count": 15,
   "id": "03a1e591",
   "metadata": {},
   "outputs": [
    {
     "name": "stdout",
     "output_type": "stream",
     "text": [
      "alpha = 4.93989194688757\n",
      "beta = 0.4980622553288568\n"
     ]
    },
    {
     "data": {
      "image/png": "[encoded data removed]",
      "text/plain": [
       "<Figure size 1200x600 with 1 Axes>"
      ]
     },
     "metadata": {},
     "output_type": "display_data"
    }
   ],
   "source": [
    "# hitung mean x dan y\n",
    "xmean = np.mean(x)\n",
    "ymean = np.mean(y)\n",
    "\n",
    "# hitung covariance dan variance\n",
    "df[\"xycov\"] = (df[\"x\"] - xmean) * (df[\"y\"] - ymean)\n",
    "df[\"xvar\"] = (df[\"x\"] - xmean)**2\n",
    "\n",
    "# hitung beta and alpha\n",
    "beta = df[\"xycov\"].sum() / df[\"xvar\"].sum()\n",
    "alpha = ymean - (beta*xmean)\n",
    "print(f\"alpha = {alpha}\")\n",
    "print(f\"beta = {beta}\")\n",
    "\n",
    "# fungsi prediksi\n",
    "ypred = alpha + beta * x     \n",
    "\n",
    "# plot regression\n",
    "plt.figure(figsize=(12, 6))\n",
    "plt.plot(x, ypred)\n",
    "plt.plot(x, y, \"ro\")\n",
    "plt.title(\"Actual vs Predicted\")\n",
    "plt.xlabel(\"x\")\n",
    "plt.ylabel(\"y\")\n",
    "\n",
    "plt.show()"
   ]
  },
  {
   "cell_type": "markdown",
   "id": "78dd81bc",
   "metadata": {},
   "source": [
    "# <center><div style=\"font-family: Times New Roman; font-size: 30px; border-radius : 10px; background-color: #dc839eff; color: #d3e381ff; padding: 12px; line-height: 0.7;\">Regresi Berganda & Plot 3D</div></center>"
   ]
  },
  {
   "cell_type": "code",
   "execution_count": 16,
   "id": "790dbea0",
   "metadata": {},
   "outputs": [
    {
     "data": {
      "application/vnd.plotly.v1+json": {
       "config": {
        "plotlyServerURL": "https://plot.ly"
       },
       "data": [
        {
         "marker": {
          "color": "blue",
          "opacity": 0.8,
          "size": 5
         },
         "mode": "markers",
         "name": "Data",
         "type": "scatter3d",
         "x": {
          "bdata": "TgAAAD0AAAAJAAAANQAAACgAAABBAAAATwAAAE0AAABEAAAAMQAAAEIAAAA1AAAAQAAAABkAAAA9AAAALgAAAAoAAAAXAAAASwAAADcAAAA9AAAANQAAADoAAAAKAAAAKAAAACYAAAARAAAAFAAAAAsAAAAhAAAADgAAAAUAAAAKAAAASgAAAD4AAAAJAAAAIwAAACMAAAAeAAAAJQAAACUAAABEAAAAHgAAADoAAABHAAAATAAAACYAAAANAAAAPwAAADcAAAAdAAAAHgAAAEUAAAAeAAAANAAAACwAAAAKAAAAMAAAABcAAAAsAAAA",
          "dtype": "i4"
         },
         "y": {
          "bdata": "DgAAACwAAAA8AAAAQwAAABoAAAALAAAAPQAAAAsAAAAlAAAAKwAAACoAAAApAAAATAAAAFQAAABNAAAACwAAAEsAAABZAAAAKwAAADsAAAArAAAAFQAAABUAAABXAAAAQQAAAC4AAABTAAAAJwAAAA0AAAAwAAAAOAAAACIAAABLAAAAMwAAAAsAAABaAAAARwAAACMAAAAtAAAAFAAAAFMAAABOAAAAJgAAABoAAAAsAAAAMwAAAAoAAABCAAAAKAAAAFgAAAALAAAAWAAAAEsAAAAuAAAARwAAAD8AAAAKAAAADQAAABEAAAAqAAAA",
          "dtype": "i4"
         },
         "z": {
          "bdata": "SLjrkCDobEAfe+1eszdxQNacUWw6pmpANXr6dhXTckBurp5r2MFkQHg4blXpaGNAAMDFEnuXdUAle7uuUDFsQLbhwiFzQnBAhVHIPdFUbkB8cJuVdBlwQPEWC9msYHFAzoYEaQMEdUDv8S9/jaFyQP9zu9oDk3dAfWs5cHDvXkCgqGtTwWJuQMfEPP4DqnRATrhKQp7DckAJc70L1TNzQAb+j8oJBW9ACFO+0pLJZ0B/DSjZTltlQNjRttHKU3FAj4zjEMPgcEAzY09lS51sQBqxLQN4+3FA6WF9liIXY0C7PCHUO95RQA5UJx++lGlA4POihqrNaEAik1Jtk1RdQOuEbOlpz25ARqCRpYh+ckBW0QGJ/4hiQKrh/Vapp3NADr6N78RfcECJrVqI+65nQJQiHEmRHWhAs2T1fj+sYEB04b9jEiRzQJ4DLQmruHdApYO2/rH1ZUCxS6EfTnxrQJcYCoE0OHFAqDnrSHCqckCo70196n5YQP/PTCxFC29AzE/nqkuIcEARc/riMqx3QGrKxMWBeF9AFRJBlegfdUBI7WlDXAl3QOohxI6j+GpA9NnxCbtnc0AA+E7FFghyQGBmouoRgkVAUqOzm180Y0CtgCEjph9dQHIzitqEy2tA",
          "dtype": "f8"
         }
        },
        {
         "colorscale": [
          [
           0,
           "rgb(247,251,255)"
          ],
          [
           0.125,
           "rgb(222,235,247)"
          ],
          [
           0.25,
           "rgb(198,219,239)"
          ],
          [
           0.375,
           "rgb(158,202,225)"
          ],
          [
           0.5,
           "rgb(107,174,214)"
          ],
          [
           0.625,
           "rgb(66,146,198)"
          ],
          [
           0.75,
           "rgb(33,113,181)"
          ],
          [
           0.875,
           "rgb(8,81,156)"
          ],
          [
           1,
           "rgb(8,48,107)"
          ]
         ],
         "name": "Garis Regresi",
         "opacity": 0.5,
         "type": "surface",
         "x": {
          "bdata": "AAAAAAAA8D9yHMdxHMcZQHIcx3EcxydAVlVVVVVVMUByHMdxHMc2QI7jOI7jODxAVlVVVVXVQEDkOI7jOI5DQHIcx3EcR0ZAAAAAAAAASUAAAAAAAADwP3Icx3EcxxlAchzHcRzHJ0BWVVVVVVUxQHIcx3EcxzZAjuM4juM4PEBWVVVVVdVAQOQ4juM4jkNAchzHcRxHRkAAAAAAAABJQAAAAAAAAPA/chzHcRzHGUByHMdxHMcnQFZVVVVVVTFAchzHcRzHNkCO4ziO4zg8QFZVVVVV1UBA5DiO4ziOQ0ByHMdxHEdGQAAAAAAAAElAAAAAAAAA8D9yHMdxHMcZQHIcx3EcxydAVlVVVVVVMUByHMdxHMc2QI7jOI7jODxAVlVVVVXVQEDkOI7jOI5DQHIcx3EcR0ZAAAAAAAAASUAAAAAAAADwP3Icx3EcxxlAchzHcRzHJ0BWVVVVVVUxQHIcx3EcxzZAjuM4juM4PEBWVVVVVdVAQOQ4juM4jkNAchzHcRxHRkAAAAAAAABJQAAAAAAAAPA/chzHcRzHGUByHMdxHMcnQFZVVVVVVTFAchzHcRzHNkCO4ziO4zg8QFZVVVVV1UBA5DiO4ziOQ0ByHMdxHEdGQAAAAAAAAElAAAAAAAAA8D9yHMdxHMcZQHIcx3EcxydAVlVVVVVVMUByHMdxHMc2QI7jOI7jODxAVlVVVVXVQEDkOI7jOI5DQHIcx3EcR0ZAAAAAAAAASUAAAAAAAADwP3Icx3EcxxlAchzHcRzHJ0BWVVVVVVUxQHIcx3EcxzZAjuM4juM4PEBWVVVVVdVAQOQ4juM4jkNAchzHcRxHRkAAAAAAAABJQAAAAAAAAPA/chzHcRzHGUByHMdxHMcnQFZVVVVVVTFAchzHcRzHNkCO4ziO4zg8QFZVVVVV1UBA5DiO4ziOQ0ByHMdxHEdGQAAAAAAAAElAAAAAAAAA8D9yHMdxHMcZQHIcx3EcxydAVlVVVVVVMUByHMdxHMc2QI7jOI7jODxAVlVVVVXVQEDkOI7jOI5DQHIcx3EcR0ZAAAAAAAAASUA=",
          "dtype": "f8",
          "shape": "10, 10"
         },
         "y": {
          "bdata": "AAAAAAAACEAAAAAAAAAIQAAAAAAAAAhAAAAAAAAACEAAAAAAAAAIQAAAAAAAAAhAAAAAAAAACEAAAAAAAAAIQAAAAAAAAAhAAAAAAAAACECqqqqqqqoiQKqqqqqqqiJAqqqqqqqqIkCqqqqqqqoiQKqqqqqqqiJAqqqqqqqqIkCqqqqqqqoiQKqqqqqqqiJAqqqqqqqqIkCqqqqqqqoiQFVVVVVVVS9AVVVVVVVVL0BVVVVVVVUvQFVVVVVVVS9AVVVVVVVVL0BVVVVVVVUvQFVVVVVVVS9AVVVVVVVVL0BVVVVVVVUvQFVVVVVVVS9AAAAAAAAANkAAAAAAAAA2QAAAAAAAADZAAAAAAAAANkAAAAAAAAA2QAAAAAAAADZAAAAAAAAANkAAAAAAAAA2QAAAAAAAADZAAAAAAAAANkBVVVVVVVU8QFVVVVVVVTxAVVVVVVVVPEBVVVVVVVU8QFVVVVVVVTxAVVVVVVVVPEBVVVVVVVU8QFVVVVVVVTxAVVVVVVVVPEBVVVVVVVU8QFVVVVVVVUFAVVVVVVVVQUBVVVVVVVVBQFVVVVVVVUFAVVVVVVVVQUBVVVVVVVVBQFVVVVVVVUFAVVVVVVVVQUBVVVVVVVVBQFVVVVVVVUFAAAAAAACAREAAAAAAAIBEQAAAAAAAgERAAAAAAACAREAAAAAAAIBEQAAAAAAAgERAAAAAAACAREAAAAAAAIBEQAAAAAAAgERAAAAAAACARECqqqqqqqpHQKqqqqqqqkdAqqqqqqqqR0CqqqqqqqpHQKqqqqqqqkdAqqqqqqqqR0CqqqqqqqpHQKqqqqqqqkdAqqqqqqqqR0CqqqqqqqpHQFVVVVVV1UpAVVVVVVXVSkBVVVVVVdVKQFVVVVVV1UpAVVVVVVXVSkBVVVVVVdVKQFVVVVVV1UpAVVVVVVXVSkBVVVVVVdVKQFVVVVVV1UpAAAAAAAAATkAAAAAAAABOQAAAAAAAAE5AAAAAAAAATkAAAAAAAABOQAAAAAAAAE5AAAAAAAAATkAAAAAAAABOQAAAAAAAAE5AAAAAAAAATkA=",
          "dtype": "f8",
          "shape": "10, 10"
         },
         "z": {
          "bdata": "6LD+gEuUNUC0vX4A6lFAQPQifkCu2UVANIh9gHJhS0C5dj5gm3RQQFkpPoB9OFNA+ds9oF/8VUCZjj3AQcBYQDhBPeAjhFtA2PM8AAZIXkDf3oLSLPpDQB5EghLxgUlAXqmBUrUJT0BPh0DJvEhSQO45QOmeDFVAjuw/CYHQV0Aunz8pY5RaQM5RP0lFWF1ANoKftBMOYECGW5/EBHBhQEplhuQzKk1AROVCEvxYUUDkl0Iy3hxUQIRKQlLA4FZAJP1BcqKkWUDEr0GShGhcQGRiQbJmLF9AgoogaST4YEDRYyB5FVpiQCE9IIkGvGNA2/VEex0tU0B6qESb//BVQBpbRLvhtFhAug1E28N4W0BawEP7pTxeQH25oQ1EgGBAzZKhHTXiYUAdbKEtJkRjQGxFoT0XpmRAvB6hTQgIZkAQuUYEIcVXQLBrRiQDiVpAUB5GROVMXUB46CKyYwhgQMjBIsJUamFAGJsi0kXMYkBodCLiNi5kQLhNIvInkGVAByciAhnyZkBXACISClRoQEV8SI0kXVxA5S5IrQYhX0DC8KNmdPJgQBLKo3ZlVGJAYqOjhla2Y0CyfKOWRxhlQAJWo6Y4emZAUi+jtincZ0CiCKPGGj5pQPLhotYLoGpAvh8lC5R6YEAO+SQbhdxhQF7SJCt2PmNArqskO2egZED9hCRLWAJmQE1eJFtJZGdAnTckazrGaEDtECR7KyhqQDzqI4scimtAjMMjmw3sbEBYAabPlcZiQKjapd+GKGRA+LOl73eKZUBIjaX/aOxmQJhmpQ9aTmhA6D+lH0uwaUA4GaUvPBJrQIjypD8tdGxA18ukTx7WbUAnpaRfDzhvQPPiJpSXEmVAQ7wmpIh0ZkCTlSa0edZnQONuJsRqOGlAM0gm1FuaakCCISbkTPxrQNL6JfQ9Xm1AItQlBC/AbkC51hIKEBFwQGHDEpIIwnBAjsSnWJleZ0DenadoisBoQC53p3h7ImpAflCniGyEa0DOKaeYXeZsQB4Dp6hOSG5AbtymuD+qb0DfWlNkGIZwQIZHU+wQN3FALjRTdAnocUA=",
          "dtype": "f8",
          "shape": "10, 10"
         }
        }
       ],
       "layout": {
        "scene": {
         "xaxis": {
          "title": {
           "text": "x1"
          }
         },
         "yaxis": {
          "title": {
           "text": "x2"
          }
         },
         "zaxis": {
          "title": {
           "text": "y"
          }
         }
        },
        "showlegend": true,
        "template": {
         "data": {
          "bar": [
           {
            "error_x": {
             "color": "#2a3f5f"
            },
            "error_y": {
             "color": "#2a3f5f"
            },
            "marker": {
             "line": {
              "color": "#E5ECF6",
              "width": 0.5
             },
             "pattern": {
              "fillmode": "overlay",
              "size": 10,
              "solidity": 0.2
             }
            },
            "type": "bar"
           }
          ],
          "barpolar": [
           {
            "marker": {
             "line": {
              "color": "#E5ECF6",
              "width": 0.5
             },
             "pattern": {
              "fillmode": "overlay",
              "size": 10,
              "solidity": 0.2
             }
            },
            "type": "barpolar"
           }
          ],
          "carpet": [
           {
            "aaxis": {
             "endlinecolor": "#2a3f5f",
             "gridcolor": "white",
             "linecolor": "white",
             "minorgridcolor": "white",
             "startlinecolor": "#2a3f5f"
            },
            "baxis": {
             "endlinecolor": "#2a3f5f",
             "gridcolor": "white",
             "linecolor": "white",
             "minorgridcolor": "white",
             "startlinecolor": "#2a3f5f"
            },
            "type": "carpet"
           }
          ],
          "choropleth": [
           {
            "colorbar": {
             "outlinewidth": 0,
             "ticks": ""
            },
            "type": "choropleth"
           }
          ],
          "contour": [
           {
            "colorbar": {
             "outlinewidth": 0,
             "ticks": ""
            },
            "colorscale": [
             [
              0,
              "#0d0887"
             ],
             [
              0.1111111111111111,
              "#46039f"
             ],
             [
              0.2222222222222222,
              "#7201a8"
             ],
             [
              0.3333333333333333,
              "#9c179e"
             ],
             [
              0.4444444444444444,
              "#bd3786"
             ],
             [
              0.5555555555555556,
              "#d8576b"
             ],
             [
              0.6666666666666666,
              "#ed7953"
             ],
             [
              0.7777777777777778,
              "#fb9f3a"
             ],
             [
              0.8888888888888888,
              "#fdca26"
             ],
             [
              1,
              "#f0f921"
             ]
            ],
            "type": "contour"
           }
          ],
          "contourcarpet": [
           {
            "colorbar": {
             "outlinewidth": 0,
             "ticks": ""
            },
            "type": "contourcarpet"
           }
          ],
          "heatmap": [
           {
            "colorbar": {
             "outlinewidth": 0,
             "ticks": ""
            },
            "colorscale": [
             [
              0,
              "#0d0887"
             ],
             [
              0.1111111111111111,
              "#46039f"
             ],
             [
              0.2222222222222222,
              "#7201a8"
             ],
             [
              0.3333333333333333,
              "#9c179e"
             ],
             [
              0.4444444444444444,
              "#bd3786"
             ],
             [
              0.5555555555555556,
              "#d8576b"
             ],
             [
              0.6666666666666666,
              "#ed7953"
             ],
             [
              0.7777777777777778,
              "#fb9f3a"
             ],
             [
              0.8888888888888888,
              "#fdca26"
             ],
             [
              1,
              "#f0f921"
             ]
            ],
            "type": "heatmap"
           }
          ],
          "histogram": [
           {
            "marker": {
             "pattern": {
              "fillmode": "overlay",
              "size": 10,
              "solidity": 0.2
             }
            },
            "type": "histogram"
           }
          ],
          "histogram2d": [
           {
            "colorbar": {
             "outlinewidth": 0,
             "ticks": ""
            },
            "colorscale": [
             [
              0,
              "#0d0887"
             ],
             [
              0.1111111111111111,
              "#46039f"
             ],
             [
              0.2222222222222222,
              "#7201a8"
             ],
             [
              0.3333333333333333,
              "#9c179e"
             ],
             [
              0.4444444444444444,
              "#bd3786"
             ],
             [
              0.5555555555555556,
              "#d8576b"
             ],
             [
              0.6666666666666666,
              "#ed7953"
             ],
             [
              0.7777777777777778,
              "#fb9f3a"
             ],
             [
              0.8888888888888888,
              "#fdca26"
             ],
             [
              1,
              "#f0f921"
             ]
            ],
            "type": "histogram2d"
           }
          ],
          "histogram2dcontour": [
           {
            "colorbar": {
             "outlinewidth": 0,
             "ticks": ""
            },
            "colorscale": [
             [
              0,
              "#0d0887"
             ],
             [
              0.1111111111111111,
              "#46039f"
             ],
             [
              0.2222222222222222,
              "#7201a8"
             ],
             [
              0.3333333333333333,
              "#9c179e"
             ],
             [
              0.4444444444444444,
              "#bd3786"
             ],
             [
              0.5555555555555556,
              "#d8576b"
             ],
             [
              0.6666666666666666,
              "#ed7953"
             ],
             [
              0.7777777777777778,
              "#fb9f3a"
             ],
             [
              0.8888888888888888,
              "#fdca26"
             ],
             [
              1,
              "#f0f921"
             ]
            ],
            "type": "histogram2dcontour"
           }
          ],
          "mesh3d": [
           {
            "colorbar": {
             "outlinewidth": 0,
             "ticks": ""
            },
            "type": "mesh3d"
           }
          ],
          "parcoords": [
           {
            "line": {
             "colorbar": {
              "outlinewidth": 0,
              "ticks": ""
             }
            },
            "type": "parcoords"
           }
          ],
          "pie": [
           {
            "automargin": true,
            "type": "pie"
           }
          ],
          "scatter": [
           {
            "fillpattern": {
             "fillmode": "overlay",
             "size": 10,
             "solidity": 0.2
            },
            "type": "scatter"
           }
          ],
          "scatter3d": [
           {
            "line": {
             "colorbar": {
              "outlinewidth": 0,
              "ticks": ""
             }
            },
            "marker": {
             "colorbar": {
              "outlinewidth": 0,
              "ticks": ""
             }
            },
            "type": "scatter3d"
           }
          ],
          "scattercarpet": [
           {
            "marker": {
             "colorbar": {
              "outlinewidth": 0,
              "ticks": ""
             }
            },
            "type": "scattercarpet"
           }
          ],
          "scattergeo": [
           {
            "marker": {
             "colorbar": {
              "outlinewidth": 0,
              "ticks": ""
             }
            },
            "type": "scattergeo"
           }
          ],
          "scattergl": [
           {
            "marker": {
             "colorbar": {
              "outlinewidth": 0,
              "ticks": ""
             }
            },
            "type": "scattergl"
           }
          ],
          "scattermap": [
           {
            "marker": {
             "colorbar": {
              "outlinewidth": 0,
              "ticks": ""
             }
            },
            "type": "scattermap"
           }
          ],
          "scattermapbox": [
           {
            "marker": {
             "colorbar": {
              "outlinewidth": 0,
              "ticks": ""
             }
            },
            "type": "scattermapbox"
           }
          ],
          "scatterpolar": [
           {
            "marker": {
             "colorbar": {
              "outlinewidth": 0,
              "ticks": ""
             }
            },
            "type": "scatterpolar"
           }
          ],
          "scatterpolargl": [
           {
            "marker": {
             "colorbar": {
              "outlinewidth": 0,
              "ticks": ""
             }
            },
            "type": "scatterpolargl"
           }
          ],
          "scatterternary": [
           {
            "marker": {
             "colorbar": {
              "outlinewidth": 0,
              "ticks": ""
             }
            },
            "type": "scatterternary"
           }
          ],
          "surface": [
           {
            "colorbar": {
             "outlinewidth": 0,
             "ticks": ""
            },
            "colorscale": [
             [
              0,
              "#0d0887"
             ],
             [
              0.1111111111111111,
              "#46039f"
             ],
             [
              0.2222222222222222,
              "#7201a8"
             ],
             [
              0.3333333333333333,
              "#9c179e"
             ],
             [
              0.4444444444444444,
              "#bd3786"
             ],
             [
              0.5555555555555556,
              "#d8576b"
             ],
             [
              0.6666666666666666,
              "#ed7953"
             ],
             [
              0.7777777777777778,
              "#fb9f3a"
             ],
             [
              0.8888888888888888,
              "#fdca26"
             ],
             [
              1,
              "#f0f921"
             ]
            ],
            "type": "surface"
           }
          ],
          "table": [
           {
            "cells": {
             "fill": {
              "color": "#EBF0F8"
             },
             "line": {
              "color": "white"
             }
            },
            "header": {
             "fill": {
              "color": "#C8D4E3"
             },
             "line": {
              "color": "white"
             }
            },
            "type": "table"
           }
          ]
         },
         "layout": {
          "annotationdefaults": {
           "arrowcolor": "#2a3f5f",
           "arrowhead": 0,
           "arrowwidth": 1
          },
          "autotypenumbers": "strict",
          "coloraxis": {
           "colorbar": {
            "outlinewidth": 0,
            "ticks": ""
           }
          },
          "colorscale": {
           "diverging": [
            [
             0,
             "#8e0152"
            ],
            [
             0.1,
             "#c51b7d"
            ],
            [
             0.2,
             "#de77ae"
            ],
            [
             0.3,
             "#f1b6da"
            ],
            [
             0.4,
             "#fde0ef"
            ],
            [
             0.5,
             "#f7f7f7"
            ],
            [
             0.6,
             "#e6f5d0"
            ],
            [
             0.7,
             "#b8e186"
            ],
            [
             0.8,
             "#7fbc41"
            ],
            [
             0.9,
             "#4d9221"
            ],
            [
             1,
             "#276419"
            ]
           ],
           "sequential": [
            [
             0,
             "#0d0887"
            ],
            [
             0.1111111111111111,
             "#46039f"
            ],
            [
             0.2222222222222222,
             "#7201a8"
            ],
            [
             0.3333333333333333,
             "#9c179e"
            ],
            [
             0.4444444444444444,
             "#bd3786"
            ],
            [
             0.5555555555555556,
             "#d8576b"
            ],
            [
             0.6666666666666666,
             "#ed7953"
            ],
            [
             0.7777777777777778,
             "#fb9f3a"
            ],
            [
             0.8888888888888888,
             "#fdca26"
            ],
            [
             1,
             "#f0f921"
            ]
           ],
           "sequentialminus": [
            [
             0,
             "#0d0887"
            ],
            [
             0.1111111111111111,
             "#46039f"
            ],
            [
             0.2222222222222222,
             "#7201a8"
            ],
            [
             0.3333333333333333,
             "#9c179e"
            ],
            [
             0.4444444444444444,
             "#bd3786"
            ],
            [
             0.5555555555555556,
             "#d8576b"
            ],
            [
             0.6666666666666666,
             "#ed7953"
            ],
            [
             0.7777777777777778,
             "#fb9f3a"
            ],
            [
             0.8888888888888888,
             "#fdca26"
            ],
            [
             1,
             "#f0f921"
            ]
           ]
          },
          "colorway": [
           "#636efa",
           "#EF553B",
           "#00cc96",
           "#ab63fa",
           "#FFA15A",
           "#19d3f3",
           "#FF6692",
           "#B6E880",
           "#FF97FF",
           "#FECB52"
          ],
          "font": {
           "color": "#2a3f5f"
          },
          "geo": {
           "bgcolor": "white",
           "lakecolor": "white",
           "landcolor": "#E5ECF6",
           "showlakes": true,
           "showland": true,
           "subunitcolor": "white"
          },
          "hoverlabel": {
           "align": "left"
          },
          "hovermode": "closest",
          "mapbox": {
           "style": "light"
          },
          "paper_bgcolor": "white",
          "plot_bgcolor": "#E5ECF6",
          "polar": {
           "angularaxis": {
            "gridcolor": "white",
            "linecolor": "white",
            "ticks": ""
           },
           "bgcolor": "#E5ECF6",
           "radialaxis": {
            "gridcolor": "white",
            "linecolor": "white",
            "ticks": ""
           }
          },
          "scene": {
           "xaxis": {
            "backgroundcolor": "#E5ECF6",
            "gridcolor": "white",
            "gridwidth": 2,
            "linecolor": "white",
            "showbackground": true,
            "ticks": "",
            "zerolinecolor": "white"
           },
           "yaxis": {
            "backgroundcolor": "#E5ECF6",
            "gridcolor": "white",
            "gridwidth": 2,
            "linecolor": "white",
            "showbackground": true,
            "ticks": "",
            "zerolinecolor": "white"
           },
           "zaxis": {
            "backgroundcolor": "#E5ECF6",
            "gridcolor": "white",
            "gridwidth": 2,
            "linecolor": "white",
            "showbackground": true,
            "ticks": "",
            "zerolinecolor": "white"
           }
          },
          "shapedefaults": {
           "line": {
            "color": "#2a3f5f"
           }
          },
          "ternary": {
           "aaxis": {
            "gridcolor": "white",
            "linecolor": "white",
            "ticks": ""
           },
           "baxis": {
            "gridcolor": "white",
            "linecolor": "white",
            "ticks": ""
           },
           "bgcolor": "#E5ECF6",
           "caxis": {
            "gridcolor": "white",
            "linecolor": "white",
            "ticks": ""
           }
          },
          "title": {
           "x": 0.05
          },
          "xaxis": {
           "automargin": true,
           "gridcolor": "white",
           "linecolor": "white",
           "ticks": "",
           "title": {
            "standoff": 15
           },
           "zerolinecolor": "white",
           "zerolinewidth": 2
          },
          "yaxis": {
           "automargin": true,
           "gridcolor": "white",
           "linecolor": "white",
           "ticks": "",
           "title": {
            "standoff": 15
           },
           "zerolinecolor": "white",
           "zerolinewidth": 2
          }
         }
        },
        "title": {
         "text": "Scatter Plot 3D dengan Garis Regresi Berganda"
        }
       }
      }
     },
     "metadata": {},
     "output_type": "display_data"
    }
   ],
   "source": [
    "# mengahasilkan data acak\n",
    "np.random.seed(21)\n",
    "x1 = np.random.randint(5, 81, 60)\n",
    "x2 = np.random.randint(10, 91, 60)\n",
    "y = 10 + 2 * x1 + 3 * x2 + np.random.normal(0, 15, 60)\n",
    "\n",
    "# membuat dataframe\n",
    "df = pd.DataFrame({\n",
    "    \"x1\": x1,\n",
    "    \"x2\": x2,\n",
    "    \"y\": y\n",
    "})\n",
    "\n",
    "# analisis regresi sederhana\n",
    "x =sm.add_constant(df[[\"x1\", \"x2\"]])\n",
    "model = sm.OLS(df[\"y\"], x). fit()\n",
    "\n",
    "# mendapatkan koefisien regresi\n",
    "koefisien = model.params\n",
    "\n",
    "# scatter plot 3D\n",
    "scatter_plot = go.Scatter3d(\n",
    "    x=df[\"x1\"],\n",
    "    y=df[\"x2\"],\n",
    "    z=df[\"y\"],\n",
    "    mode=\"markers\",\n",
    "    marker=dict(\n",
    "        size=5,\n",
    "        color=\"blue\",\n",
    "        opacity=0.8\n",
    "    ),\n",
    "    name=\"Data\"\n",
    ")\n",
    "\n",
    "# membuat grid untuk permukaan regresi\n",
    "x1_grid, x2_grid = np.meshgrid(np.linspace(1, 50, 10), np.linspace(3, 60, 10))\n",
    "y_pred = koefisien.iloc[0] + koefisien.iloc[1] * x1_grid + koefisien.iloc[2] * x2_grid\n",
    "\n",
    "# permukaan regresi 3D\n",
    "regresion_surface = go.Surface(\n",
    "    x=x1_grid,\n",
    "    y=x2_grid,\n",
    "    z=y_pred,\n",
    "    colorscale=\"Blues\",\n",
    "    opacity=0.5,\n",
    "    name=\"Garis Regresi\"\n",
    ")\n",
    "\n",
    "# membuat layout plot\n",
    "layout = go.Layout(\n",
    "    title=\"Scatter Plot 3D dengan Garis Regresi Berganda\",\n",
    "    scene=dict(\n",
    "        xaxis_title=\"x1\",\n",
    "        yaxis_title=\"x2\",\n",
    "        zaxis_title=\"y\"\n",
    "    ),\n",
    "    showlegend=True \n",
    ")\n",
    "\n",
    "# membuat figure dengan scatter plot dan permukaan regresi\n",
    "fig = go.Figure(data=[scatter_plot, regresion_surface], layout=layout)\n",
    "\n",
    "# menampilkan plot\n",
    "fig.show()\n"
   ]
  }
 ],
 "metadata": {
  "kernelspec": {
   "display_name": "Python 3",
   "language": "python",
   "name": "python3"
  },
  "language_info": {
   "codemirror_mode": {
    "name": "ipython",
    "version": 3
   },
   "file_extension": ".py",
   "mimetype": "text/x-python",
   "name": "python",
   "nbconvert_exporter": "python",
   "pygments_lexer": "ipython3",
   "version": "3.13.3"
  }
 },
 "nbformat": 4,
 "nbformat_minor": 5
}
